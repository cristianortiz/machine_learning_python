{
 "cells": [
  {
   "cell_type": "markdown",
   "metadata": {},
   "source": [
    "## Resumen de los datos: Dimensiones y estructuras\n"
   ]
  },
  {
   "cell_type": "code",
   "execution_count": null,
   "metadata": {},
   "outputs": [],
   "source": [
    "import pandas as pd\n",
    "import os\n",
    "mainpath = \"/Users/cristian/Google Drive/JupyterNotebooks/machine_learning/datasets\"\n",
    "filename = \"titanic/titanic3.csv\"\n",
    "fullpath = os.path.join(mainpath,filename)\n",
    "\n",
    "data = pd.read_csv(fullpath)\n",
    "data.tail() "
   ]
  },
  {
   "cell_type": "code",
   "execution_count": null,
   "metadata": {},
   "outputs": [],
   "source": [
    "#dimensiones del dataframe, atributo shape\n",
    "data.shape"
   ]
  },
  {
   "cell_type": "code",
   "execution_count": null,
   "metadata": {},
   "outputs": [],
   "source": [
    "#cabeceras de las columnas, con el atributo collumns.values\n",
    "data.columns.values"
   ]
  },
  {
   "cell_type": "markdown",
   "metadata": {},
   "source": [
    "## Estadisticos basicos en variables numericas"
   ]
  },
  {
   "cell_type": "code",
   "execution_count": null,
   "metadata": {},
   "outputs": [],
   "source": [
    "data.describe()"
   ]
  },
  {
   "cell_type": "markdown",
   "metadata": {},
   "source": [
    "# tipos de los datos de cada columna"
   ]
  },
  {
   "cell_type": "code",
   "execution_count": null,
   "metadata": {},
   "outputs": [],
   "source": [
    "data.dtypes"
   ]
  },
  {
   "cell_type": "markdown",
   "metadata": {},
   "source": [
    "## Missing Values"
   ]
  },
  {
   "cell_type": "code",
   "execution_count": null,
   "metadata": {},
   "outputs": [],
   "source": [
    "pd.isnull(data[\"body\"])"
   ]
  },
  {
   "cell_type": "code",
   "execution_count": null,
   "metadata": {},
   "outputs": [],
   "source": [
    "pd.notnull(data[\"body\"])"
   ]
  },
  {
   "cell_type": "code",
   "execution_count": null,
   "metadata": {},
   "outputs": [],
   "source": [
    "#se verifica que valores de la columna son null, con ravel se ordenan en una sola fila y con sum, sabremos cuantos null son\n",
    "pd.isnull(data[\"body\"]).values.ravel().sum()"
   ]
  },
  {
   "cell_type": "code",
   "execution_count": null,
   "metadata": {},
   "outputs": [],
   "source": [
    "pd.notnull(data[\"body\"]).values.ravel().sum()"
   ]
  },
  {
   "cell_type": "markdown",
   "metadata": {},
   "source": [
    "Los valores que faltan en un dataset pueden venir por dos razones\n",
    "* Extracción de los datos (incompatibilidad entre el tipo de dato alojado en la BD y la forma en que se extrae)\n",
    "* Recolección de los datos (Ej: encuestas incompletas, o datos que simplemente no se ingresaron nunca en la BD)"
   ]
  },
  {
   "cell_type": "markdown",
   "metadata": {},
   "source": [
    "### Borrado de valores que falten"
   ]
  },
  {
   "cell_type": "code",
   "execution_count": null,
   "metadata": {},
   "outputs": [],
   "source": [
    "#borra toda la fila axis = 0, y how='all' borra las filas que tienen todos sus datos NaN\n",
    "data.dropna(axis = 0, how =\"all\")"
   ]
  },
  {
   "cell_type": "code",
   "execution_count": null,
   "metadata": {},
   "outputs": [],
   "source": [
    "#borra toda la filasi cualquiera de sus valores es Nan, aqui borra todo, porque en todas las filas hay algun valor Nan\n",
    "data2 = data\n",
    "data2.dropna(axis=0,how=\"any\")"
   ]
  },
  {
   "cell_type": "markdown",
   "metadata": {},
   "source": [
    "### Computo o inferencia de los valores faltantes"
   ]
  },
  {
   "cell_type": "code",
   "execution_count": null,
   "metadata": {},
   "outputs": [],
   "source": [
    "#rellena todos los valores Nan con ceros\n",
    "data3 = data\n",
    "data3.fillna(0)"
   ]
  },
  {
   "cell_type": "code",
   "execution_count": null,
   "metadata": {},
   "outputs": [],
   "source": [
    "#reemplaza valores con respecto a una columna, aqui, llena con ceros, solo los datos Nan de la columna 'body', si no se hace\n",
    "# data = data['columna'].fillna(), no se reemplaza en el dataframe, solo seria un reemplazo visual\n",
    "data5 = data\n",
    "data5[\"body\"] = data5[\"body\"].fillna(0)\n",
    "data5[\"home.dest\"] = data5[\"home.dest\"].fillna(\"Desconocido\")\n",
    "data5.head()"
   ]
  },
  {
   "cell_type": "markdown",
   "metadata": {},
   "source": [
    "### Usando estadisticos para reemplazar los Nan"
   ]
  },
  {
   "cell_type": "code",
   "execution_count": null,
   "metadata": {},
   "outputs": [],
   "source": [
    "#cuantas filas del columna 'age' son Nan\n",
    "pd.isnull(data5[\"age\"]).values.ravel().sum()"
   ]
  },
  {
   "cell_type": "code",
   "execution_count": null,
   "metadata": {},
   "outputs": [],
   "source": [
    "#reemplaza los Nan de la columna 'age' por el valor promedio de dicha columna\n",
    "data5[\"age\"].fillna(data5[\"age\"].mean())"
   ]
  },
  {
   "cell_type": "code",
   "execution_count": null,
   "metadata": {},
   "outputs": [],
   "source": [
    "#reemplaza ls Nan por el valor conocido inmediatamente anterior, method = forward fill\n",
    "data5[\"age\"][1291] #fila 1291 tiene el valor 'age' en Nan\n",
    "\n",
    "#reemplaza por el valor conocido inmediatamente anterior de la columa 'age' fila 1291,\n",
    "#en este caso la fila 1290 tiene valor 'age'= 47,\n",
    "data5[\"age\"].fillna(method=\"ffill\") "
   ]
  },
  {
   "cell_type": "code",
   "execution_count": null,
   "metadata": {},
   "outputs": [],
   "source": [
    "#tambien se puede method = backfill, reemplaza por el primer valor conocido posterior a la fila en cuestion\n",
    "data5[\"age\"].fillna(method=\"backfill\") #en este casi por el valor de columna 'age' fila 1294 = 28,5"
   ]
  },
  {
   "cell_type": "markdown",
   "metadata": {},
   "source": [
    "### Variables dummy para variables categoricas"
   ]
  },
  {
   "cell_type": "code",
   "execution_count": null,
   "metadata": {},
   "outputs": [],
   "source": [
    "#variable categorica, 'male' o 'female'\n",
    "data[\"sex\"] "
   ]
  },
  {
   "cell_type": "code",
   "execution_count": null,
   "metadata": {},
   "outputs": [],
   "source": [
    "#transformamos las variables categoricas en columnas separadas, con valor 1 o 0, quedan dos columnas donde se distribuye el\n",
    "#1 segun si la fila cumple con el valor original ej: fila[0] es female, por lo tanto sex_female = 1 y sex_male = 0, fila[1]\n",
    "# es male por lo tanto sex_female = 0 y sex_male = 1\n",
    "dummy_sex = pd.get_dummies(data[\"sex\"], prefix=\"sex\")\n",
    "dummy_sex.head()"
   ]
  },
  {
   "cell_type": "code",
   "execution_count": null,
   "metadata": {},
   "outputs": [],
   "source": [
    "# se elimina la columna original y se reemplaza por la dummy, primero listamos las columnas del dataframe\n",
    "column_name = data.columns.values.tolist()\n",
    "column_name"
   ]
  },
  {
   "cell_type": "code",
   "execution_count": null,
   "metadata": {},
   "outputs": [],
   "source": [
    "#elimino toda la columa sex, con axis = 1, eje vertical\n",
    "data = data.drop([\"sex\"],axis = 1)"
   ]
  },
  {
   "cell_type": "code",
   "execution_count": null,
   "metadata": {},
   "outputs": [],
   "source": [
    "#ahora concatenamos al dataset las variables dummy\n",
    "data = pd.concat([data, dummy_sex],axis = 1)"
   ]
  },
  {
   "cell_type": "code",
   "execution_count": null,
   "metadata": {},
   "outputs": [],
   "source": [
    "#definimos una funcion para hacer todo el proceso anterior de una sola vez\n",
    "def createDummies(df, var_name):\n",
    "    dummy = pd.get_dummies(df[var_name], prefix = var_name)\n",
    "    df = df.drop(var_name, axis = 1)\n",
    "    df = pd.concat([df, dummy ], axis = 1)\n",
    "    return df"
   ]
  },
  {
   "cell_type": "code",
   "execution_count": null,
   "metadata": {},
   "outputs": [],
   "source": [
    "createDummies(data3, \"sex\")"
   ]
  }
 ],
 "metadata": {
  "kernelspec": {
   "display_name": "Python 3",
   "language": "python",
   "name": "python3"
  },
  "language_info": {
   "codemirror_mode": {
    "name": "ipython",
    "version": 3
   },
   "file_extension": ".py",
   "mimetype": "text/x-python",
   "name": "python",
   "nbconvert_exporter": "python",
   "pygments_lexer": "ipython3",
   "version": "3.6.5"
  }
 },
 "nbformat": 4,
 "nbformat_minor": 2
}
