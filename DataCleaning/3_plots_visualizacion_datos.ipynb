{
 "cells": [
  {
   "cell_type": "markdown",
   "metadata": {},
   "source": [
    "## Graficos o Plots, visualización de los datos"
   ]
  },
  {
   "cell_type": "code",
   "execution_count": null,
   "metadata": {},
   "outputs": [],
   "source": [
    "import pandas as pd\n",
    "import numpy as np\n",
    "import matplotlib.pyplot as plt\n",
    "data = pd.read_csv(\"../datasets/customer-churn-model/Customer Churn Model.txt\")\n",
    "data"
   ]
  },
  {
   "cell_type": "code",
   "execution_count": null,
   "metadata": {},
   "outputs": [],
   "source": [
    "# permite ver los graficos de la libreria matplotlib en el notebook de python\n",
    "% matplotlib inline "
   ]
  },
  {
   "cell_type": "markdown",
   "metadata": {},
   "source": [
    "### Scatter Plot"
   ]
  },
  {
   "cell_type": "code",
   "execution_count": null,
   "metadata": {},
   "outputs": [],
   "source": [
    "data.plot(kind =\"scatter\", x = \"Day Mins\", y=\"Day Charge\")"
   ]
  },
  {
   "cell_type": "code",
   "execution_count": null,
   "metadata": {},
   "outputs": [],
   "source": [
    "data.plot(kind = \"scatter\", x = \"Night Mins\", y =\"Night Charge\")"
   ]
  },
  {
   "cell_type": "markdown",
   "metadata": {},
   "source": [
    "### Agrupando Graficos\n",
    "En los graficos anteriores vemos que las escalas son distintas por eso es dificil comparar, haremos uso del metodo\n",
    "'subplots' para agrupar y visualizar los graficos en un misma escala para que sea facil compararlos"
   ]
  },
  {
   "cell_type": "code",
   "execution_count": null,
   "metadata": {},
   "outputs": [],
   "source": [
    "#creamos dos variables, fig, para el dibujo axs para los ejes, luego, una matriz 2x2 donde se crearan 4 graficos agrupados\n",
    "#que compartiran el eje 'Y' y el 'X', es decir, estaran a la misma escala\n",
    "figure, axs = plt.subplots(2,2, sharey =True, sharex = True)\n",
    "\n",
    "#ahora hago aparecer el primer grafico \"subplot\"\n",
    "data.plot(kind=\"scatter\", x=\"Day Mins\", y =\"Day Charge\", ax=axs[0][0])\n",
    "\n",
    "#segundo grafico\n",
    "data.plot(kind=\"scatter\", x=\"Night Mins\", y =\"Night Charge\", ax=axs[0][1])\n",
    "\n",
    "#tercer grafico\n",
    "data.plot(kind=\"scatter\", x=\"Day Calls\", y =\"Day Charge\", ax=axs[1][0])\n",
    "#cuarto grafico\n",
    "data.plot(kind=\"scatter\", x=\"Night Calls\", y =\"Night Charge\", ax=axs[1][1])\n"
   ]
  },
  {
   "cell_type": "markdown",
   "metadata": {},
   "source": [
    "### Histrogramas de frecuencia\n",
    "genramos histograma de la columna Day Calls (tercer grafico del subplot anterior), con divisiones o 'bins' fijas pero tambien pueden ser personalizados ej; bins[0,60,90,120,150,180], en este caso usaremos la regla de sturges"
   ]
  },
  {
   "cell_type": "code",
   "execution_count": null,
   "metadata": {},
   "outputs": [],
   "source": [
    "data.describe()"
   ]
  },
  {
   "cell_type": "code",
   "execution_count": null,
   "metadata": {},
   "outputs": [],
   "source": [
    "# regla de sturges\n",
    "k = int(np.ceil(1+np.log(3333)))\n",
    "plt.hist(data[\"Day Calls\"], bins = k)\n",
    "plt.xlabel(\"Numero de llamadas\")\n",
    "plt.ylabel(\"Frecuencia\")\n",
    "plt.title(\"Histograma del numero de llamadas al dia\")"
   ]
  },
  {
   "cell_type": "markdown",
   "metadata": {},
   "source": [
    "### Boxplot, o diagrama de caja"
   ]
  },
  {
   "cell_type": "code",
   "execution_count": null,
   "metadata": {},
   "outputs": [],
   "source": [
    "plt.boxplot(data[\"Day Calls\"])\n",
    "plt.ylabel(\"Numero de llamadas diarias\")\n",
    "plt.title(\"Boxplot de las llamadas diarias\")"
   ]
  }
 ],
 "metadata": {
  "kernelspec": {
   "display_name": "Python 3",
   "language": "python",
   "name": "python3"
  },
  "language_info": {
   "codemirror_mode": {
    "name": "ipython",
    "version": 3
   },
   "file_extension": ".py",
   "mimetype": "text/x-python",
   "name": "python",
   "nbconvert_exporter": "python",
   "pygments_lexer": "ipython3",
   "version": "3.6.5"
  }
 },
 "nbformat": 4,
 "nbformat_minor": 2
}
