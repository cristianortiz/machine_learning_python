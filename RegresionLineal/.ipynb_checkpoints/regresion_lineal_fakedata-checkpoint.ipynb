{
 "cells": [
  {
   "cell_type": "markdown",
   "metadata": {},
   "source": [
    "## modelos de regresion Lineal\n",
    "### Modelos con datos simulados\n",
    "* y = a + b*x\n",
    "* X : 100 valores distribuidos segun una N(1.5, 2.5)\n",
    "* Ye = 5 + 1.9 * x + w\n",
    "* e se distribuira segun N(0,0.8)"
   ]
  },
  {
   "cell_type": "code",
   "execution_count": 1,
   "metadata": {
    "collapsed": true
   },
   "outputs": [],
   "source": [
    "import pandas as pd\n",
    "import numpy as np"
   ]
  },
  {
   "cell_type": "code",
   "execution_count": 32,
   "metadata": {
    "collapsed": true
   },
   "outputs": [],
   "source": [
    "#generamos la distrubución de los valores de x\n",
    "x = 1.5 + 2.5 * np.random.randn(100)"
   ]
  },
  {
   "cell_type": "code",
   "execution_count": 33,
   "metadata": {
    "collapsed": true
   },
   "outputs": [],
   "source": [
    "#distrubucion de los errores \"e\"\n",
    "res = 0 + 0.8 * np.random.randn(100)"
   ]
  },
  {
   "cell_type": "code",
   "execution_count": 34,
   "metadata": {
    "collapsed": true
   },
   "outputs": [],
   "source": [
    "#generaremos una prediccion simulada de los valores\n",
    "y_pred = 5 + 1.9 *x"
   ]
  },
  {
   "cell_type": "code",
   "execution_count": 35,
   "metadata": {
    "collapsed": true
   },
   "outputs": [],
   "source": [
    "#este otro grupo de valores actuara como los valores reales, la idea es ver si los que generamos en y_pred se les acercan\n",
    "y_act = 5 + 1.9 *x + res"
   ]
  },
  {
   "cell_type": "code",
   "execution_count": 36,
   "metadata": {
    "collapsed": true
   },
   "outputs": [],
   "source": [
    "#creamos el dataframe de prueba, pasando primero los valores antes creados a formato lista, para luego crear el dataframe\n",
    "x_list = x.tolist()\n",
    "y_pred_list = y_pred.tolist()\n",
    "y_act_list = y_act.tolist()"
   ]
  },
  {
   "cell_type": "code",
   "execution_count": 37,
   "metadata": {
    "collapsed": true
   },
   "outputs": [],
   "source": [
    "#creamos el diccionario\n",
    "data = pd.DataFrame(\n",
    "    {\n",
    "        \"x\":x_list,\n",
    "        \"y_actual\":y_act_list,\n",
    "        \"y_prediccion\":y_pred_list\n",
    "    }\n",
    ")"
   ]
  },
  {
   "cell_type": "code",
   "execution_count": 38,
   "metadata": {
    "collapsed": true
   },
   "outputs": [
    {
     "data": {
      "text/html": [
       "<div>\n",
       "<table border=\"1\" class=\"dataframe\">\n",
       "  <thead>\n",
       "    <tr style=\"text-align: right;\">\n",
       "      <th></th>\n",
       "      <th>x</th>\n",
       "      <th>y_actual</th>\n",
       "      <th>y_prediccion</th>\n",
       "    </tr>\n",
       "  </thead>\n",
       "  <tbody>\n",
       "    <tr>\n",
       "      <th>0</th>\n",
       "      <td>3.279772</td>\n",
       "      <td>12.001677</td>\n",
       "      <td>11.231566</td>\n",
       "    </tr>\n",
       "    <tr>\n",
       "      <th>1</th>\n",
       "      <td>2.531045</td>\n",
       "      <td>10.369042</td>\n",
       "      <td>9.808986</td>\n",
       "    </tr>\n",
       "    <tr>\n",
       "      <th>2</th>\n",
       "      <td>0.715705</td>\n",
       "      <td>7.091559</td>\n",
       "      <td>6.359839</td>\n",
       "    </tr>\n",
       "    <tr>\n",
       "      <th>3</th>\n",
       "      <td>2.914074</td>\n",
       "      <td>9.847537</td>\n",
       "      <td>10.536740</td>\n",
       "    </tr>\n",
       "    <tr>\n",
       "      <th>4</th>\n",
       "      <td>0.711537</td>\n",
       "      <td>7.388434</td>\n",
       "      <td>6.351921</td>\n",
       "    </tr>\n",
       "  </tbody>\n",
       "</table>\n",
       "</div>"
      ],
      "text/plain": [
       "          x   y_actual  y_prediccion\n",
       "0  3.279772  12.001677     11.231566\n",
       "1  2.531045  10.369042      9.808986\n",
       "2  0.715705   7.091559      6.359839\n",
       "3  2.914074   9.847537     10.536740\n",
       "4  0.711537   7.388434      6.351921"
      ]
     },
     "execution_count": 38,
     "metadata": {},
     "output_type": "execute_result"
    }
   ],
   "source": [
    "data.head()"
   ]
  },
  {
   "cell_type": "code",
   "execution_count": 9,
   "metadata": {
    "collapsed": true
   },
   "outputs": [],
   "source": [
    "#verificar la precision de la y_prediccion que hemos simulado, se ve que la linea azul se ajusta muy bien a los datos en rojo \n",
    "import matplotlib.pyplot as plt"
   ]
  },
  {
   "cell_type": "code",
   "execution_count": 19,
   "metadata": {
    "collapsed": true
   },
   "outputs": [],
   "source": [
    "y_mean = [np.mean(y_act) for i in range(1,len(x_list) + 1)] # vector que tiene el promedio en cada valor de x"
   ]
  },
  {
   "cell_type": "code",
   "execution_count": 65,
   "metadata": {
    "collapsed": true
   },
   "outputs": [
    {
     "data": {
      "text/plain": [
       "Text(0.5,1,'Valor actual v/s prediccion')"
      ]
     },
     "execution_count": 65,
     "metadata": {},
     "output_type": "execute_result"
    },
    {
     "data": {
      "image/png": "[encoded data removed]",
      "text/plain": [
       "<Figure size 432x288 with 1 Axes>"
      ]
     },
     "metadata": {},
     "output_type": "display_data"
    }
   ],
   "source": [
    "%matplotlib inline\n",
    "plt.plot(x,y_pred)\n",
    "plt.plot(x,y_act,\"ro\")\n",
    "plt.plot(x,y_mean,\"g\")\n",
    "plt.title(\"Valor actual v/s prediccion\")"
   ]
  },
  {
   "cell_type": "code",
   "execution_count": 56,
   "metadata": {
    "collapsed": true
   },
   "outputs": [],
   "source": [
    "#agregaremos al dataframe los 3 factores para comparar y ver el ajuste del modelo en relacion a los datos, con el estadistico\n",
    "#suma de los cuadrados de la regresion / suma de cuadrados totales R2 = SSR/SST, mejor mientras mas se acerca a 1\n",
    "data[\"SSR\"] = (data[\"y_prediccion\"] - np.mean(y_act))**2\n",
    "data[\"SSD\"] = (data[\"y_prediccion\"] - data[\"y_actual\"])**2\n",
    "data[\"SST\"] = (data[\"y_actual\"] - np.mean(y_act))**2"
   ]
  },
  {
   "cell_type": "code",
   "execution_count": 41,
   "metadata": {
    "collapsed": true
   },
   "outputs": [
    {
     "data": {
      "text/html": [
       "<div>\n",
       "<table border=\"1\" class=\"dataframe\">\n",
       "  <thead>\n",
       "    <tr style=\"text-align: right;\">\n",
       "      <th></th>\n",
       "      <th>x</th>\n",
       "      <th>y_actual</th>\n",
       "      <th>y_prediccion</th>\n",
       "      <th>SSR</th>\n",
       "      <th>SSD</th>\n",
       "      <th>SST</th>\n",
       "    </tr>\n",
       "  </thead>\n",
       "  <tbody>\n",
       "    <tr>\n",
       "      <th>0</th>\n",
       "      <td>3.279772</td>\n",
       "      <td>12.001677</td>\n",
       "      <td>11.231566</td>\n",
       "      <td>8.699527</td>\n",
       "      <td>0.593070</td>\n",
       "      <td>13.835474</td>\n",
       "    </tr>\n",
       "    <tr>\n",
       "      <th>1</th>\n",
       "      <td>2.531045</td>\n",
       "      <td>10.369042</td>\n",
       "      <td>9.808986</td>\n",
       "      <td>2.331470</td>\n",
       "      <td>0.313663</td>\n",
       "      <td>4.355451</td>\n",
       "    </tr>\n",
       "    <tr>\n",
       "      <th>2</th>\n",
       "      <td>0.715705</td>\n",
       "      <td>7.091559</td>\n",
       "      <td>6.359839</td>\n",
       "      <td>3.694972</td>\n",
       "      <td>0.535414</td>\n",
       "      <td>1.417317</td>\n",
       "    </tr>\n",
       "    <tr>\n",
       "      <th>3</th>\n",
       "      <td>2.914074</td>\n",
       "      <td>9.847537</td>\n",
       "      <td>10.536740</td>\n",
       "      <td>5.083536</td>\n",
       "      <td>0.475001</td>\n",
       "      <td>2.450687</td>\n",
       "    </tr>\n",
       "    <tr>\n",
       "      <th>4</th>\n",
       "      <td>0.711537</td>\n",
       "      <td>7.388434</td>\n",
       "      <td>6.351921</td>\n",
       "      <td>3.725477</td>\n",
       "      <td>1.074360</td>\n",
       "      <td>0.798585</td>\n",
       "    </tr>\n",
       "  </tbody>\n",
       "</table>\n",
       "</div>"
      ],
      "text/plain": [
       "          x   y_actual  y_prediccion       SSR       SSD        SST\n",
       "0  3.279772  12.001677     11.231566  8.699527  0.593070  13.835474\n",
       "1  2.531045  10.369042      9.808986  2.331470  0.313663   4.355451\n",
       "2  0.715705   7.091559      6.359839  3.694972  0.535414   1.417317\n",
       "3  2.914074   9.847537     10.536740  5.083536  0.475001   2.450687\n",
       "4  0.711537   7.388434      6.351921  3.725477  1.074360   0.798585"
      ]
     },
     "execution_count": 41,
     "metadata": {},
     "output_type": "execute_result"
    }
   ],
   "source": [
    "data.head()"
   ]
  },
  {
   "cell_type": "code",
   "execution_count": null,
   "metadata": {
    "collapsed": true
   },
   "outputs": [],
   "source": []
  },
  {
   "cell_type": "code",
   "execution_count": 57,
   "metadata": {
    "collapsed": true
   },
   "outputs": [],
   "source": [
    "SSR = sum(data[\"SSR\"])\n",
    "SSD = sum(data[\"SSD\"])\n",
    "SST = sum(data[\"SST\"])"
   ]
  },
  {
   "cell_type": "code",
   "execution_count": 62,
   "metadata": {
    "collapsed": true
   },
   "outputs": [
    {
     "data": {
      "text/plain": [
       "1799.0399074439679"
      ]
     },
     "execution_count": 62,
     "metadata": {},
     "output_type": "execute_result"
    }
   ],
   "source": [
    "SSR +SSD"
   ]
  },
  {
   "cell_type": "code",
   "execution_count": 63,
   "metadata": {
    "collapsed": true
   },
   "outputs": [
    {
     "data": {
      "text/plain": [
       "1718.8452395325862"
      ]
     },
     "execution_count": 63,
     "metadata": {},
     "output_type": "execute_result"
    }
   ],
   "source": [
    "SST"
   ]
  },
  {
   "cell_type": "code",
   "execution_count": 59,
   "metadata": {
    "collapsed": true
   },
   "outputs": [],
   "source": [
    "R2 = SSR/SST"
   ]
  },
  {
   "cell_type": "code",
   "execution_count": 61,
   "metadata": {
    "collapsed": true
   },
   "outputs": [
    {
     "data": {
      "text/plain": [
       "1.0127373667453388"
      ]
     },
     "execution_count": 61,
     "metadata": {},
     "output_type": "execute_result"
    }
   ],
   "source": [
    "R2"
   ]
  },
  {
   "cell_type": "code",
   "execution_count": 66,
   "metadata": {
    "collapsed": true
   },
   "outputs": [
    {
     "data": {
      "text/plain": [
       "58.30110571697562"
      ]
     },
     "execution_count": 66,
     "metadata": {},
     "output_type": "execute_result"
    }
   ],
   "source": [
    "SSD"
   ]
  },
  {
   "cell_type": "code",
   "execution_count": 67,
   "metadata": {
    "collapsed": true
   },
   "outputs": [
    {
     "data": {
      "text/plain": [
       "(array([ 1.,  2.,  6., 13., 19., 11., 20., 18.,  6.,  4.]),\n",
       " array([-2.19791516, -1.81137315, -1.42483113, -1.03828911, -0.65174709,\n",
       "        -0.26520507,  0.12133694,  0.50787896,  0.89442098,  1.280963  ,\n",
       "         1.66750502]),\n",
       " <a list of 10 Patch objects>)"
      ]
     },
     "execution_count": 67,
     "metadata": {},
     "output_type": "execute_result"
    },
    {
     "data": {
      "image/png": "[encoded data removed]",
      "text/plain": [
       "<Figure size 432x288 with 1 Axes>"
      ]
     },
     "metadata": {},
     "output_type": "display_data"
    }
   ],
   "source": [
    "#ver si el error se distribuye de forma normal\n",
    "plt.hist(data[\"y_prediccion\"] - data[\"y_actual\"])"
   ]
  },
  {
   "cell_type": "markdown",
   "metadata": {},
   "source": [
    "## Obteniendo la recta de regresión\n",
    "* y = a+b*x\n",
    "* b = sum((xi-x_m)*(y_i-y_m) / sum((xi-x_m)^2)\n",
    "* a = y_m -b*x_m"
   ]
  },
  {
   "cell_type": "code",
   "execution_count": 68,
   "metadata": {
    "collapsed": true
   },
   "outputs": [
    {
     "data": {
      "text/plain": [
       "(1.7154788234667768, 8.282070270684303)"
      ]
     },
     "execution_count": 68,
     "metadata": {},
     "output_type": "execute_result"
    }
   ],
   "source": [
    "x_mean = np.mean(data[\"x\"])\n",
    "y_mean = np.mean(data[\"y_actual\"])\n",
    "x_mean, y_mean"
   ]
  },
  {
   "cell_type": "code",
   "execution_count": 70,
   "metadata": {
    "collapsed": true
   },
   "outputs": [],
   "source": [
    "#numerador de las betas\n",
    "data[\"beta_n\"] = (data[\"x\"] - x_mean)*(data[\"y_actual\"]-y_mean)\n",
    "#denominador de las betas\n",
    "data[\"beta_d\"] = (data[\"x\"] - x_mean)**2"
   ]
  },
  {
   "cell_type": "code",
   "execution_count": 71,
   "metadata": {
    "collapsed": true
   },
   "outputs": [],
   "source": [
    "beta = sum(data[\"beta_n\"])/sum(data[\"beta_d\"])"
   ]
  },
  {
   "cell_type": "code",
   "execution_count": 73,
   "metadata": {
    "collapsed": true
   },
   "outputs": [],
   "source": [
    "alpha = y_mean -beta*x_mean"
   ]
  },
  {
   "cell_type": "code",
   "execution_count": 74,
   "metadata": {
    "collapsed": true
   },
   "outputs": [
    {
     "data": {
      "text/plain": [
       "(5.0976459789197754, 1.8562888962564907)"
      ]
     },
     "execution_count": 74,
     "metadata": {},
     "output_type": "execute_result"
    }
   ],
   "source": [
    "alpha,beta"
   ]
  },
  {
   "cell_type": "markdown",
   "metadata": {},
   "source": [
    "### En conclusion el modelo obtenido por regresion será\n",
    "* y = 5.0976459789197754 + *x"
   ]
  },
  {
   "cell_type": "code",
   "execution_count": 75,
   "metadata": {
    "collapsed": true
   },
   "outputs": [],
   "source": [
    "#agreamos al data set los valores que se obtendrían aplicando el modelo\n",
    "data[\"y_model\"] = alpha + beta *data[\"x\"]"
   ]
  },
  {
   "cell_type": "code",
   "execution_count": 76,
   "metadata": {
    "collapsed": true
   },
   "outputs": [
    {
     "data": {
      "text/html": [
       "<div>\n",
       "<table border=\"1\" class=\"dataframe\">\n",
       "  <thead>\n",
       "    <tr style=\"text-align: right;\">\n",
       "      <th></th>\n",
       "      <th>x</th>\n",
       "      <th>y_actual</th>\n",
       "      <th>y_prediccion</th>\n",
       "      <th>SSR</th>\n",
       "      <th>SSD</th>\n",
       "      <th>SST</th>\n",
       "      <th>beta_n</th>\n",
       "      <th>beta_d</th>\n",
       "      <th>y_model</th>\n",
       "    </tr>\n",
       "  </thead>\n",
       "  <tbody>\n",
       "    <tr>\n",
       "      <th>0</th>\n",
       "      <td>3.279772</td>\n",
       "      <td>12.001677</td>\n",
       "      <td>11.231566</td>\n",
       "      <td>8.699527</td>\n",
       "      <td>0.593070</td>\n",
       "      <td>13.835474</td>\n",
       "      <td>5.818554</td>\n",
       "      <td>2.447012</td>\n",
       "      <td>11.185850</td>\n",
       "    </tr>\n",
       "    <tr>\n",
       "      <th>1</th>\n",
       "      <td>2.531045</td>\n",
       "      <td>10.369042</td>\n",
       "      <td>9.808986</td>\n",
       "      <td>2.331470</td>\n",
       "      <td>0.313663</td>\n",
       "      <td>4.355451</td>\n",
       "      <td>1.702064</td>\n",
       "      <td>0.665148</td>\n",
       "      <td>9.795997</td>\n",
       "    </tr>\n",
       "    <tr>\n",
       "      <th>2</th>\n",
       "      <td>0.715705</td>\n",
       "      <td>7.091559</td>\n",
       "      <td>6.359839</td>\n",
       "      <td>3.694972</td>\n",
       "      <td>0.535414</td>\n",
       "      <td>1.417317</td>\n",
       "      <td>1.190242</td>\n",
       "      <td>0.999548</td>\n",
       "      <td>6.426201</td>\n",
       "    </tr>\n",
       "    <tr>\n",
       "      <th>3</th>\n",
       "      <td>2.914074</td>\n",
       "      <td>9.847537</td>\n",
       "      <td>10.536740</td>\n",
       "      <td>5.083536</td>\n",
       "      <td>0.475001</td>\n",
       "      <td>2.450687</td>\n",
       "      <td>1.876361</td>\n",
       "      <td>1.436630</td>\n",
       "      <td>10.507009</td>\n",
       "    </tr>\n",
       "    <tr>\n",
       "      <th>4</th>\n",
       "      <td>0.711537</td>\n",
       "      <td>7.388434</td>\n",
       "      <td>6.351921</td>\n",
       "      <td>3.725477</td>\n",
       "      <td>1.074360</td>\n",
       "      <td>0.798585</td>\n",
       "      <td>0.897158</td>\n",
       "      <td>1.007899</td>\n",
       "      <td>6.418465</td>\n",
       "    </tr>\n",
       "  </tbody>\n",
       "</table>\n",
       "</div>"
      ],
      "text/plain": [
       "          x   y_actual  y_prediccion       SSR       SSD        SST    beta_n  \\\n",
       "0  3.279772  12.001677     11.231566  8.699527  0.593070  13.835474  5.818554   \n",
       "1  2.531045  10.369042      9.808986  2.331470  0.313663   4.355451  1.702064   \n",
       "2  0.715705   7.091559      6.359839  3.694972  0.535414   1.417317  1.190242   \n",
       "3  2.914074   9.847537     10.536740  5.083536  0.475001   2.450687  1.876361   \n",
       "4  0.711537   7.388434      6.351921  3.725477  1.074360   0.798585  0.897158   \n",
       "\n",
       "     beta_d    y_model  \n",
       "0  2.447012  11.185850  \n",
       "1  0.665148   9.795997  \n",
       "2  0.999548   6.426201  \n",
       "3  1.436630  10.507009  \n",
       "4  1.007899   6.418465  "
      ]
     },
     "execution_count": 76,
     "metadata": {},
     "output_type": "execute_result"
    }
   ],
   "source": [
    "data.head()"
   ]
  },
  {
   "cell_type": "code",
   "execution_count": 77,
   "metadata": {
    "collapsed": true
   },
   "outputs": [],
   "source": [
    "#Calculamos nuevamente el estadistico R2 para ver la precision del modelo de regresion\n",
    "SSR = sum((data[\"y_model\"] - y_mean)**2)\n",
    "SSD = sum((data[\"y_model\"] - data[\"y_actual\"])**2)\n",
    "SST = sum((data[\"y_actual\"] - y_mean)**2)"
   ]
  },
  {
   "cell_type": "code",
   "execution_count": 78,
   "metadata": {
    "collapsed": true
   },
   "outputs": [
    {
     "data": {
      "text/plain": [
       "(1661.516775335372, 57.328464197213975, 1718.8452395325862)"
      ]
     },
     "execution_count": 78,
     "metadata": {},
     "output_type": "execute_result"
    }
   ],
   "source": [
    "SSR,SSD,SST"
   ]
  },
  {
   "cell_type": "code",
   "execution_count": 79,
   "metadata": {
    "collapsed": true
   },
   "outputs": [
    {
     "data": {
      "text/plain": [
       "0.9666471053480045"
      ]
     },
     "execution_count": 79,
     "metadata": {},
     "output_type": "execute_result"
    }
   ],
   "source": [
    "R2 = SSR/SST\n",
    "R2"
   ]
  },
  {
   "cell_type": "markdown",
   "metadata": {},
   "source": [
    "### Calculando error estadar residual RSE"
   ]
  },
  {
   "cell_type": "code",
   "execution_count": 81,
   "metadata": {
    "collapsed": true
   },
   "outputs": [
    {
     "data": {
      "text/plain": [
       "0.764842682218376"
      ]
     },
     "execution_count": 81,
     "metadata": {},
     "output_type": "execute_result"
    }
   ],
   "source": [
    "RSE = np.sqrt(SSD/(len(data)-2))\n",
    "RSE"
   ]
  },
  {
   "cell_type": "code",
   "execution_count": 82,
   "metadata": {
    "collapsed": true
   },
   "outputs": [
    {
     "data": {
      "text/plain": [
       "8.282070270684303"
      ]
     },
     "execution_count": 82,
     "metadata": {},
     "output_type": "execute_result"
    }
   ],
   "source": [
    "np.mean(data[\"y_actual\"])"
   ]
  },
  {
   "cell_type": "code",
   "execution_count": 84,
   "metadata": {
    "collapsed": true
   },
   "outputs": [
    {
     "data": {
      "text/plain": [
       "9.234921429315296"
      ]
     },
     "execution_count": 84,
     "metadata": {},
     "output_type": "execute_result"
    }
   ],
   "source": [
    "#llevamos a porcentaje sobre la media de la prediccion la cantidad de error estandar\n",
    "RSE / np.mean(data[\"y_actual\"])*100"
   ]
  }
 ],
 "metadata": {
  "kernelspec": {
   "display_name": "Python 3",
   "language": "python",
   "name": "python3"
  },
  "language_info": {
   "codemirror_mode": {
    "name": "ipython",
    "version": 3
   },
   "file_extension": ".py",
   "mimetype": "text/x-python",
   "name": "python",
   "nbconvert_exporter": "python",
   "pygments_lexer": "ipython3",
   "version": "3.6.5"
  }
 },
 "nbformat": 4,
 "nbformat_minor": 2
}
