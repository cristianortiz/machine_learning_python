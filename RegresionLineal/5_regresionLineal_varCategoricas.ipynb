{
 "cells": [
  {
   "cell_type": "markdown",
   "metadata": {},
   "source": [
    "### Dataset con informacion financiera, gastos y entradas de personas de distinto sexo y distritos o barrios o sectores de una ciudad, estas ultimas son variables categoricas"
   ]
  },
  {
   "cell_type": "code",
   "execution_count": null,
   "metadata": {},
   "outputs": [],
   "source": [
    "import pandas as pd\n",
    "import numpy as np\n",
    "from sklearn.linear_model import LinearRegression"
   ]
  },
  {
   "cell_type": "code",
   "execution_count": null,
   "metadata": {},
   "outputs": [],
   "source": [
    "df = pd.read_csv(\"../datasets/ecom-expense/Ecom Expense.csv\")"
   ]
  },
  {
   "cell_type": "code",
   "execution_count": null,
   "metadata": {},
   "outputs": [],
   "source": [
    "df.head()"
   ]
  },
  {
   "cell_type": "code",
   "execution_count": null,
   "metadata": {},
   "outputs": [],
   "source": [
    "#creamos un dummy para las variables categoricas, con esto se asignan variables numericas a cada categoria\n",
    "dummy_gender = pd.get_dummies(df[\"Gender\"],prefix =\"Gender\")\n",
    "dummy_city_tier = pd.get_dummies(df[\"City Tier\"],prefix =\"City\")\n"
   ]
  },
  {
   "cell_type": "code",
   "execution_count": null,
   "metadata": {},
   "outputs": [],
   "source": [
    "#quedan 2 columnas para la variable categorica Gender\n",
    "dummy_gender.head()"
   ]
  },
  {
   "cell_type": "code",
   "execution_count": null,
   "metadata": {},
   "outputs": [],
   "source": [
    "#quedan 3 columnas para la variable categorica City Tier\n",
    "dummy_city_tier.head()"
   ]
  },
  {
   "cell_type": "code",
   "execution_count": null,
   "metadata": {},
   "outputs": [],
   "source": [
    "#Se unen estas variables dummy al dataframe principal con JOIN\n",
    "column_names = df.columns.values.tolist() #se crea una lista con los nombres de columnas del df principal\n",
    "column_names"
   ]
  },
  {
   "cell_type": "code",
   "execution_count": null,
   "metadata": {},
   "outputs": [],
   "source": [
    "df_new = df[column_names].join(dummy_gender)\n",
    "column_names = df_new.columns.values.tolist()\n",
    "df_new.head()"
   ]
  },
  {
   "cell_type": "code",
   "execution_count": null,
   "metadata": {},
   "outputs": [],
   "source": [
    "df_new = df_new[column_names].join(dummy_city_tier)\n",
    "df_new.head()\n"
   ]
  },
  {
   "cell_type": "code",
   "execution_count": null,
   "metadata": {},
   "outputs": [],
   "source": [
    "#ahora ver como incluimos las variables dummy en el modelo lineal que buscamos crear para predecir el gasto total\n",
    "feature_cols = [\"Monthly Income\",\"Transaction Time\",\n",
    "                \"Gender_Female\",\"Gender_Male\",\n",
    "                \"City_Tier 1\",\"City_Tier 2\",\"City_Tier 3\",\n",
    "               \"Record\"]"
   ]
  },
  {
   "cell_type": "code",
   "execution_count": null,
   "metadata": {},
   "outputs": [],
   "source": [
    "#variables a usar como predictores\n",
    "X = df_new[feature_cols]\n",
    "#variable Y que se quiere predecir\n",
    "Y = df_new[\"Total Spend\"]"
   ]
  },
  {
   "cell_type": "code",
   "execution_count": null,
   "metadata": {},
   "outputs": [],
   "source": [
    "#ahora se crea el modelo lineal con sklearn\n",
    "lm = LinearRegression()\n",
    "lm.fit(X,Y)"
   ]
  },
  {
   "cell_type": "code",
   "execution_count": null,
   "metadata": {},
   "outputs": [],
   "source": [
    "print(lm.intercept_)\n",
    "print(lm.coef_)"
   ]
  },
  {
   "cell_type": "code",
   "execution_count": null,
   "metadata": {},
   "outputs": [],
   "source": [
    "#se unen las columnas con con sus respectivos coeficientes\n",
    "list(zip(feature_cols,lm.coef_))"
   ]
  },
  {
   "cell_type": "code",
   "execution_count": null,
   "metadata": {},
   "outputs": [],
   "source": [
    "lm.score(X,Y) #R2 sale bajo 0.19, hay que refinar el modelo, agregaremos la variable Record, ver como aumenta mucho el R2"
   ]
  },
  {
   "cell_type": "markdown",
   "metadata": {},
   "source": [
    "### El modelo entonces puede ser escrito como\n",
    "Total_Spend = -79.4171303013718 +'Monthly Income'*0.1475389804920574  + 'Transaction Time'*0.15494612549589393 +             \n",
    "                                 'Gender_Female' *-131.02501325554675 + 'Gender_Male'*131.02501325554664       +\n",
    "                                 'City_Tier 1'   *76.764326010495     + 'City_Tier 2'*55.13897430923278        +\n",
    "                                 'City_Tier 3'   *-131.90330031972783 +  'Record'    *772.2334457445645\n",
    "### Lo anterior es la forma global del modelo, pero se debe dividir segun las variables categoricas\n",
    "    * Si es hombre y vive en CT1"
   ]
  },
  {
   "cell_type": "code",
   "execution_count": null,
   "metadata": {},
   "outputs": [],
   "source": []
  },
  {
   "cell_type": "code",
   "execution_count": null,
   "metadata": {},
   "outputs": [],
   "source": [
    "# calculamos la desviacion tipica de los residuos RSE\n",
    "df_new[\"prediction\"] = -79.4171303013718 +df_new['Monthly Income']*0.1475389804920574  + df_new['Transaction Time']*0.15494612549589393+ df_new['Gender_Female']*(-131.02501325554675) + df_new['Gender_Male']*131.02501325554664 +  df_new['City_Tier 1']*76.764326010495 + df_new['City_Tier 2']*55.13897430923278+  df_new['City_Tier 3']*(-131.90330031972783) + df_new[ 'Record']*772.2334457445645                                                     "
   ]
  },
  {
   "cell_type": "code",
   "execution_count": null,
   "metadata": {},
   "outputs": [],
   "source": [
    "df_new.head()"
   ]
  },
  {
   "cell_type": "code",
   "execution_count": null,
   "metadata": {},
   "outputs": [],
   "source": [
    "SSD = np.sum((df_new[\"prediction\"] - df_new[\"Total Spend\"])**2)"
   ]
  },
  {
   "cell_type": "code",
   "execution_count": null,
   "metadata": {},
   "outputs": [],
   "source": [
    "SSD"
   ]
  },
  {
   "cell_type": "code",
   "execution_count": null,
   "metadata": {},
   "outputs": [],
   "source": [
    "RSE = np.sqrt(SSD/(len(df_new)-len(feature_cols)-1))"
   ]
  },
  {
   "cell_type": "code",
   "execution_count": null,
   "metadata": {},
   "outputs": [],
   "source": [
    "RSE"
   ]
  },
  {
   "cell_type": "code",
   "execution_count": null,
   "metadata": {},
   "outputs": [],
   "source": [
    "sales_mean =np.mean(df_new[\"Total Spend\"])\n",
    "sales_mean"
   ]
  },
  {
   "cell_type": "code",
   "execution_count": null,
   "metadata": {},
   "outputs": [],
   "source": [
    "error = RSE/sales_mean\n"
   ]
  },
  {
   "cell_type": "code",
   "execution_count": null,
   "metadata": {},
   "outputs": [],
   "source": [
    "error"
   ]
  },
  {
   "cell_type": "markdown",
   "metadata": {},
   "source": [
    "### Eliminar variables dummies redundantes"
   ]
  },
  {
   "cell_type": "code",
   "execution_count": null,
   "metadata": {},
   "outputs": [],
   "source": [
    "dummy_gender = pd.get_dummies(df[\"Gender\"],prefix=\"Gender\").iloc[:,1:]\n",
    "dummy_gender.head()"
   ]
  },
  {
   "cell_type": "code",
   "execution_count": null,
   "metadata": {},
   "outputs": [],
   "source": [
    "dummy_city_tier = pd.get_dummies(df[\"City Tier\"],prefix=\"City\").iloc[:,1:]\n",
    "dummy_city_tier.head()\n"
   ]
  },
  {
   "cell_type": "code",
   "execution_count": null,
   "metadata": {},
   "outputs": [],
   "source": [
    "column_names = df.columns.values.tolist()\n",
    "df_new = df[column_names].join(dummy_gender)\n",
    "column_names = df_new.columns.values.tolist()\n",
    "df_new = df_new[column_names].join(dummy_city_tier)\n",
    "df_new.head()"
   ]
  },
  {
   "cell_type": "code",
   "execution_count": null,
   "metadata": {},
   "outputs": [],
   "source": [
    "feature_cols = [\"Monthly Income\",\"Transaction Time\",\n",
    "                \"Gender_Male\",\n",
    "               \"City_Tier 2\",\"City_Tier 3\",\n",
    "               \"Record\"]\n",
    "X = df_new[feature_cols]\n",
    "Y = df_new[\"Total Spend\"]\n",
    "lm = LinearRegression()\n",
    "lm.fit(X,Y)"
   ]
  },
  {
   "cell_type": "code",
   "execution_count": null,
   "metadata": {},
   "outputs": [],
   "source": [
    "print(lm.intercept_)"
   ]
  },
  {
   "cell_type": "code",
   "execution_count": null,
   "metadata": {},
   "outputs": [],
   "source": [
    "list(zip(feature_cols,lm.coef_))"
   ]
  },
  {
   "cell_type": "code",
   "execution_count": null,
   "metadata": {},
   "outputs": [],
   "source": [
    "#el modelo noha cambiado, solo lo hemos simplificado con menos variables dummies\n",
    "lm.score(X,Y)"
   ]
  },
  {
   "cell_type": "markdown",
   "metadata": {},
   "source": [
    "### Comparando los coeficientes de ambos implementaciones del modelo\n",
    "#### Con todas las variables del modelo\n",
    "* ('Monthly Income', 0.1475389804920574),\n",
    "* ('Transaction Time', 0.15494612549589393),\n",
    "* ('Gender_Female', -131.02501325554675),\n",
    "*  ('Gender_Male', 131.02501325554664),\n",
    "*  ('City_Tier 1', 76.764326010495),\n",
    "*  ('City_Tier 2', 55.13897430923278),\n",
    "*  ('City_Tier 3', -131.90330031972783),\n",
    "*  ('Record', 772.2334457445645)]\n",
    "\n",
    "#### luego de enmascarar las variables dummies\n",
    "* ('Monthly Income', 0.14753898049205744),\n",
    "* ('Transaction Time', 0.15494612549589837),\n",
    "* ('Gender_Male', 262.0500265110939),\n",
    "* ('City_Tier 2', -21.62535170126288),\n",
    "* ('City_Tier 3', -208.66762633022293),\n",
    "* ('Record', 772.2334457445637)]\n",
    "\n",
    "#### Los cambios se reflejan al quitar el caso base de las variables que hemos elimnado, el modelo queda igual, pero los coeficientes se redistribuyen\n",
    "* Gender Male\n",
    "    * antes -> 131.02501325554664\n",
    "    * despues -> 262.0500265110939 = 131.02501325554675 -(-131.02501325554675)\n",
    "* Gender Female\n",
    "    * antes-> -131.02501325554675)\n",
    "    * despues-> 0 (recordar que lo hemos quitado)\n",
    "* CT1\n",
    "    * antes  -> 76.764326010495\n",
    "    * despues-> 0 (recordar que lo hemos quitado)\n",
    "* CT2\n",
    "    * antes ->  55.13897430923278\n",
    "    * despues ->  -21.62535170126288 = 55.13897430923278 - 76.764326010495\n",
    "* CT3\n",
    "    * antes  -> -131.90330031972783\n",
    "    * despues -> -208.66762633022293 = -131.90330031972783 -76.764326010495"
   ]
  },
  {
   "cell_type": "markdown",
   "metadata": {},
   "source": [
    "### Transformacion de variables con conseguir relacion no lineal"
   ]
  },
  {
   "cell_type": "code",
   "execution_count": null,
   "metadata": {},
   "outputs": [],
   "source": []
  }
 ],
 "metadata": {
  "kernelspec": {
   "display_name": "Python 3",
   "language": "python",
   "name": "python3"
  },
  "language_info": {
   "codemirror_mode": {
    "name": "ipython",
    "version": 3
   },
   "file_extension": ".py",
   "mimetype": "text/x-python",
   "name": "python",
   "nbconvert_exporter": "python",
   "pygments_lexer": "ipython3",
   "version": "3.6.5"
  }
 },
 "nbformat": 4,
 "nbformat_minor": 2
}
