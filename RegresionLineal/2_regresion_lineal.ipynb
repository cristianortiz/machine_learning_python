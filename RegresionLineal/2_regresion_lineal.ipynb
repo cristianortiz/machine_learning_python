{
 "cells": [
  {
   "cell_type": "markdown",
   "metadata": {},
   "source": [
    "### Regresion lineal simple en Python\n",
    "#### Usando el paquete stasmodel para regresion lineal"
   ]
  },
  {
   "cell_type": "code",
   "execution_count": null,
   "metadata": {},
   "outputs": [],
   "source": [
    "import pandas as pd\n",
    "import numpy as np\n",
    "import statsmodels.formula.api as smf"
   ]
  },
  {
   "cell_type": "code",
   "execution_count": null,
   "metadata": {},
   "outputs": [],
   "source": [
    "#se carga nuevamente el datasets de advertising\n",
    "data = pd.read_csv(\"../datasets/ads/Advertising.csv\")"
   ]
  },
  {
   "cell_type": "code",
   "execution_count": null,
   "metadata": {},
   "outputs": [],
   "source": [
    "data.head()"
   ]
  },
  {
   "cell_type": "code",
   "execution_count": null,
   "metadata": {},
   "outputs": [],
   "source": [
    "#creamos un modelo de regresion lineal, indicamos que variables queremos analizar, en este caso, Sales (y), y TV(x)\n",
    "lm = smf.ols(formula = \"Sales~TV\", data = data).fit()"
   ]
  },
  {
   "cell_type": "code",
   "execution_count": null,
   "metadata": {},
   "outputs": [],
   "source": [
    "lm.params"
   ]
  },
  {
   "cell_type": "markdown",
   "metadata": {},
   "source": [
    "### El modelo lineal predictivo seria Sales = 7.032594 + 0.047537 * TV"
   ]
  },
  {
   "cell_type": "code",
   "execution_count": null,
   "metadata": {},
   "outputs": [],
   "source": [
    "#vemos todos los parametros del modelo\n",
    "lm.summary()"
   ]
  },
  {
   "cell_type": "code",
   "execution_count": null,
   "metadata": {},
   "outputs": [],
   "source": [
    "#usamos el modelo para hacer prediciones sobre las ventas, usando la columna TV del dataset\n",
    "sales_pred = lm.predict(pd.DataFrame(data[\"TV\"]))\n",
    "sales_pred"
   ]
  },
  {
   "cell_type": "code",
   "execution_count": null,
   "metadata": {},
   "outputs": [],
   "source": [
    "#graficamos los valores de la prediccion\n",
    "import matplotlib.pyplot as plt"
   ]
  },
  {
   "cell_type": "code",
   "execution_count": null,
   "metadata": {},
   "outputs": [],
   "source": [
    "%matplotlib inline\n",
    "data.plot(kind = \"scatter\", x = \"TV\", y =\"Sales\")\n",
    "plt.plot(pd.DataFrame(data[\"TV\"]), sales_pred, c=\"red\", linewidth =2)"
   ]
  },
  {
   "cell_type": "code",
   "execution_count": null,
   "metadata": {},
   "outputs": [],
   "source": [
    "#calculamos el error residual\n",
    "data[\"sales_pred\"] = 7.032594 + 0.047537*data[\"TV\"]"
   ]
  },
  {
   "cell_type": "code",
   "execution_count": null,
   "metadata": {},
   "outputs": [],
   "source": [
    "data[\"RSE\"] = (data[\"Sales\"] - data[\"sales_pred\"])**2"
   ]
  },
  {
   "cell_type": "code",
   "execution_count": null,
   "metadata": {},
   "outputs": [],
   "source": [
    "SSD = sum(data[\"RSE\"])\n",
    "SSD"
   ]
  },
  {
   "cell_type": "code",
   "execution_count": null,
   "metadata": {},
   "outputs": [],
   "source": [
    "#desviacion tipica del modelo\n",
    "RSE = np.sqrt(SSD/(len(data)-2))\n",
    "RSE"
   ]
  },
  {
   "cell_type": "code",
   "execution_count": null,
   "metadata": {},
   "outputs": [],
   "source": [
    "#ventas promedio\n",
    "sales_m = np.mean(data[\"Sales\"])\n",
    "sales_m"
   ]
  },
  {
   "cell_type": "code",
   "execution_count": null,
   "metadata": {},
   "outputs": [],
   "source": [
    "#que porcentaje de los datos no quedan explicados, varianza del modelo\n",
    "error = RSE/sales_m\n",
    "error\n"
   ]
  },
  {
   "cell_type": "code",
   "execution_count": null,
   "metadata": {},
   "outputs": [],
   "source": [
    "#histograma de los errores, vemos que siguen una distribucion normal\n",
    "plt.hist(data[\"Sales\"] - data[\"sales_pred\"])"
   ]
  },
  {
   "cell_type": "markdown",
   "metadata": {},
   "source": [
    "### Ahora crearemos un modelo lineal multiple para intentar reducir el error\n",
    "### Statsmodel para regresion multiple\n",
    "* Sales -> TV\n",
    "* Sales -> Newspaper\n",
    "* Sales -> Radio\n",
    "* Sales -> TV+Newspaper\n",
    "* Sales -> TV+Radio\n",
    "* Sales -> Newspaper+Radio\n",
    "* Sales -> TV+Newspaper+Radio\n",
    "\n",
    "Pero todo esto es muy complejo, se debe usar aquellos que tengan por ejemplo un p-valor alto para filtrar los modelos o que aumenten el valor de R2\n",
    "empezaremos por le modelo que ya tenemos de Sales->TV y le añadiremos variables, para una regresion fastfoward"
   ]
  },
  {
   "cell_type": "code",
   "execution_count": null,
   "metadata": {},
   "outputs": [],
   "source": [
    "#añadir el newspaper al modelo existente\n",
    "lm2 = smf.ols(formula=\"Sales~TV+Newspaper\",data = data).fit()"
   ]
  },
  {
   "cell_type": "code",
   "execution_count": null,
   "metadata": {},
   "outputs": [],
   "source": [
    "lm2.params"
   ]
  },
  {
   "cell_type": "code",
   "execution_count": null,
   "metadata": {},
   "outputs": [],
   "source": [
    "#comparamos los p-valores, son todos pequeños, los 3 parametros son no nulos y buenos para el modelo\n",
    "lm2.pvalues"
   ]
  },
  {
   "cell_type": "markdown",
   "metadata": {},
   "source": [
    "#### Sales = 5.774948 + 0.046901*TV + 0.044219*Newspaper"
   ]
  },
  {
   "cell_type": "code",
   "execution_count": null,
   "metadata": {},
   "outputs": [],
   "source": [
    "#obtenemos los R\n",
    "lm2.rsquared"
   ]
  },
  {
   "cell_type": "code",
   "execution_count": null,
   "metadata": {},
   "outputs": [],
   "source": [
    "lm2.rsquared_adj"
   ]
  },
  {
   "cell_type": "code",
   "execution_count": null,
   "metadata": {},
   "outputs": [],
   "source": [
    "#hacemos algunas predicciones, al modelo le damos un subconjunto del dataset original\n",
    "sales_pred = lm2.predict(data[[\"TV\",\"Newspaper\"]])\n",
    "sales_pred"
   ]
  },
  {
   "cell_type": "code",
   "execution_count": null,
   "metadata": {},
   "outputs": [],
   "source": [
    "#desviación estantar residuos\n",
    "SSD = sum((data[\"Sales\"] - sales_pred)**2)\n",
    "SSD"
   ]
  },
  {
   "cell_type": "code",
   "execution_count": null,
   "metadata": {},
   "outputs": [],
   "source": [
    "#notar que ahora restamos -2 -1 porque hay dos variables predictoras, el RSE ha bajado un poco\n",
    "RSE = np.sqrt(SSD/(len(data)-2-1))\n",
    "RSE"
   ]
  },
  {
   "cell_type": "code",
   "execution_count": null,
   "metadata": {},
   "outputs": [],
   "source": [
    "#calculamos el error, que tambien ha bajado , pero solo un poco, ahora el modelo no explica el 22.2% de los datos\n",
    "error = RSE/sales_m\n",
    "error"
   ]
  },
  {
   "cell_type": "code",
   "execution_count": null,
   "metadata": {},
   "outputs": [],
   "source": [
    "lm2.summary()"
   ]
  },
  {
   "cell_type": "markdown",
   "metadata": {},
   "source": [
    "#### en resumen añadir el periodico no ayudo casi nada a mejorar el modelo, seguiremos agregando variables"
   ]
  },
  {
   "cell_type": "code",
   "execution_count": null,
   "metadata": {},
   "outputs": [],
   "source": [
    "lm3 = smf.ols(formula=\"Sales~TV+Radio\",data = data).fit()"
   ]
  },
  {
   "cell_type": "code",
   "execution_count": null,
   "metadata": {},
   "outputs": [],
   "source": [
    "lm3.summary() #vemos como sube el valor de R2 y R2 ajustado, el p-valor es mucho mas pequeño, el estadistico F es mucho mas grande"
   ]
  },
  {
   "cell_type": "code",
   "execution_count": null,
   "metadata": {},
   "outputs": [],
   "source": [
    "#hacemos una prediccion\n",
    "sales_pred = lm3.predict(data[[\"TV\",\"Radio\"]])\n",
    "SSD = sum((data[\"Sales\"]-sales_pred)**2)\n",
    "RSE = np.sqrt(SSD/(len(data)-2-1))"
   ]
  },
  {
   "cell_type": "code",
   "execution_count": null,
   "metadata": {},
   "outputs": [],
   "source": [
    "RSE"
   ]
  },
  {
   "cell_type": "code",
   "execution_count": null,
   "metadata": {},
   "outputs": [],
   "source": [
    "#ahora el modelo deja de explicar solo el 12% de los datos, y comprobamos que agregar la variable Radio se mejora ya que juntas\n",
    "#TV y Radio explican mucho mejor las ventas del producto, que por separado ninguna variable podia explicar de forma mas precisa\n",
    "RSE/sales_m\n"
   ]
  },
  {
   "cell_type": "code",
   "execution_count": null,
   "metadata": {},
   "outputs": [],
   "source": [
    "#ahora vemos que pasa si se agregan mas variables al modelo, d\n",
    "lm4 = smf.ols(formula=\"Sales~TV+Radio+Newspaper\",data = data).fit()"
   ]
  },
  {
   "cell_type": "code",
   "execution_count": null,
   "metadata": {},
   "outputs": [],
   "source": [
    "#vemos que agregar Newspaper no mejora en nada el modelo lm3 e hecho ha subido el p-valor mucho, que casi hace aceptar\n",
    "#la hipotesis nula, R2 y R2adj, son casi iguales, ver los valores negativos y contraproducentes de añadir Newspaper\n",
    "lm4.summary()"
   ]
  },
  {
   "cell_type": "code",
   "execution_count": null,
   "metadata": {},
   "outputs": [],
   "source": [
    "#ahora vemos el error, -3-1, porque tenemos 3 variables\n",
    "sales_pred = lm4.predict(data[[\"TV\",\"Radio\",\"Newspaper\"]])\n",
    "SSD = sum((data[\"Sales\"]-sales_pred)**2)\n",
    "RSE = np.sqrt(SSD/(len(data)-3-1))\n"
   ]
  },
  {
   "cell_type": "code",
   "execution_count": null,
   "metadata": {},
   "outputs": [],
   "source": [
    "RSE"
   ]
  },
  {
   "cell_type": "code",
   "execution_count": null,
   "metadata": {},
   "outputs": [],
   "source": [
    "#el error ha subido\n",
    "RSE/sales_m"
   ]
  },
  {
   "cell_type": "markdown",
   "metadata": {},
   "source": [
    "### Multicolinealidad: \n",
    "por esto añadir una variable antes, empeoro el modelo, es la correlacion entre las variables predictoras del modelo, problema de la multicolinealidad, en el ejemplo si miramos el cuadro de correlaciones, se ve que Newspaper esta correlacionado de forma importante con Radio, y de hecho Newspaper esta mas correlacionado con Radio que con la propia Sales que es la variable que intentamos explicar, por lo tanto Newspaper interfiere con el modelo, identificar los pares de variables predictoras con alta correlacion entre si, usando una matriz de correlacion y eliminarlas del modelo, usando el factor de inflacion de la varianza, para detectar la multicolinealidad, a traves de un estadistico\n",
    "* Factor de inflacion de la varianza VIF, escribir la variables problematica en funcion de las otras variables predictoras, \n",
    "* Si el VIF es 1 las variables son independientes y no estan correlacionadas, \n",
    "* Entre 1 y 5 estan correlacionadas de forma moderada, y se pueden quedar en el modelo \n",
    "* VIF > 5, las variables tienen una alta correlacion y deben ser eliminadas del modelo\n"
   ]
  },
  {
   "cell_type": "code",
   "execution_count": null,
   "metadata": {},
   "outputs": [],
   "source": [
    "#Newspaper -> TV + Radio ->R2 VIF = 1/(1-R2)\n",
    "lm_n = smf.ols(formula = \"Newspaper~TV+Radio\",data = data).fit()\n",
    "rsquared_n = lm_n.rsquared\n",
    "VIF = 1/(1-rsquared_n)\n",
    "VIF"
   ]
  },
  {
   "cell_type": "code",
   "execution_count": null,
   "metadata": {},
   "outputs": [],
   "source": [
    "#TV -> Newspaper + Radio ->R2 VIF = 1/(1-R2)\n",
    "lm_tv = smf.ols(formula = \"TV~Newspaper+Radio\",data = data).fit()\n",
    "rsquared_tv = lm_tv.rsquared\n",
    "VIF = 1/(1-rsquared_tv)\n",
    "VIF #la TV no esta correlacionada con nadie "
   ]
  },
  {
   "cell_type": "code",
   "execution_count": null,
   "metadata": {},
   "outputs": [],
   "source": [
    "#Radio -> TV + Newspaper ->R2 VIF = 1/(1-R2)\n",
    "lm_r = smf.ols(formula = \"Radio~Newspaper+TV\",data = data).fit()\n",
    "rsquared_r = lm_r.rsquared\n",
    "VIF = 1/(1-rsquared_r)\n",
    "VIF #newpaper y Radio estan correlacionadas, sus VIF son casi iguales"
   ]
  },
  {
   "cell_type": "code",
   "execution_count": null,
   "metadata": {},
   "outputs": [],
   "source": [
    "#por lo anterior se saca Newspaper del modelo y nos quedamos con el modelo 3 que incluye TV y Radio\n",
    "lm3.summary()"
   ]
  }
 ],
 "metadata": {
  "kernelspec": {
   "display_name": "Python 3",
   "language": "python",
   "name": "python3"
  },
  "language_info": {
   "codemirror_mode": {
    "name": "ipython",
    "version": 3
   },
   "file_extension": ".py",
   "mimetype": "text/x-python",
   "name": "python",
   "nbconvert_exporter": "python",
   "pygments_lexer": "ipython3",
   "version": "3.6.5"
  }
 },
 "nbformat": 4,
 "nbformat_minor": 2
}
