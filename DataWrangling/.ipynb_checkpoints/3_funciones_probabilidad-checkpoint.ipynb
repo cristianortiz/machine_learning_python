{
 "cells": [
  {
   "cell_type": "markdown",
   "metadata": {},
   "source": [
    "## Funciones de Distribución de Probabilidades"
   ]
  },
  {
   "cell_type": "markdown",
   "metadata": {},
   "source": [
    "### Distribución Uniforme\n"
   ]
  },
  {
   "cell_type": "code",
   "execution_count": null,
   "metadata": {},
   "outputs": [],
   "source": [
    "import numpy as np\n",
    "import matplotlib.pyplot as plt\n",
    "import pandas as pd"
   ]
  },
  {
   "cell_type": "code",
   "execution_count": null,
   "metadata": {},
   "outputs": [],
   "source": [
    "#se genera un conjunto de datos aleatrios pero que sigan la distribucion uniforme con a<b, debe ser una gran cantidad de datos\n",
    "a = 1\n",
    "b = 100\n",
    "n = 1000000\n",
    "data = np.random.uniform(a,b,n)"
   ]
  },
  {
   "cell_type": "code",
   "execution_count": null,
   "metadata": {},
   "outputs": [],
   "source": [
    "#verificamos con un histograma para ver si los datos siguen la distribucion uniforme\n",
    "%matplotlib inline\n",
    "plt.hist(data)"
   ]
  },
  {
   "cell_type": "markdown",
   "metadata": {},
   "source": [
    "## La distribución Normal "
   ]
  },
  {
   "cell_type": "code",
   "execution_count": null,
   "metadata": {},
   "outputs": [],
   "source": [
    "data = np.random.randn(1000000)"
   ]
  },
  {
   "cell_type": "code",
   "execution_count": null,
   "metadata": {},
   "outputs": [],
   "source": [
    "x = range(1,1000001)\n",
    "plt.plot(x,data)"
   ]
  },
  {
   "cell_type": "code",
   "execution_count": null,
   "metadata": {},
   "outputs": [],
   "source": [
    "plt.hist(data)"
   ]
  },
  {
   "cell_type": "code",
   "execution_count": null,
   "metadata": {},
   "outputs": [],
   "source": [
    "#grafico distrubucion acumulada, para constrastar que es una distribucio normal\n",
    "plt.plot(x,sorted(data))"
   ]
  },
  {
   "cell_type": "code",
   "execution_count": null,
   "metadata": {},
   "outputs": [],
   "source": [
    "# distrubucion normal con parametros personalizados\n",
    "# Z = (X - mu) / sd--->N(0,1)--> despejamos X = mu +sd *Z (Teorema central del limite)\n",
    "mu = 5.5\n",
    "sd = 2.5\n",
    "data = mu + sd*np.random.randn(10000)\n",
    "plt.hist(data)"
   ]
  },
  {
   "cell_type": "code",
   "execution_count": null,
   "metadata": {},
   "outputs": [],
   "source": [
    "#retorna 2 colecciones  aleatorias normales de 4 elementos cada uno, usar para generar datasets con valores aleatorios\n",
    "data = np.random.randn(2,4)\n",
    "data"
   ]
  },
  {
   "cell_type": "markdown",
   "metadata": {},
   "source": [
    "### Simulación de Montecarlo: aplicacion de uso de los numeros aleatorios\n"
   ]
  },
  {
   "cell_type": "markdown",
   "metadata": {},
   "source": [
    "* generar 2 variables aleatorias x e y entre 0 y 1 con n valores por cada variable\n",
    "* Calcular x*x e y*y\n",
    "    * si el valor es inferior a 1-> estamos dentro del circulo\n",
    "    * si el valor es superior a 1 -> estamos fuera del circulo\n",
    "* Se calcular el numero total de veces que se está dentro del circulo y se dividide por el numero total de intentos, para obtener una aproximación de la probabilidad de caer dentro del circulo\n",
    "* Usar dicha probabilidad para aproximar el valor de PI\n",
    "* Se repite el experimento un numero suficiente de veces (100 por ejemplo), para obtener (100) diferentes aproximaciones de PI\n",
    "* Se calcula el promedio de los 100 experimentos anteriores para dar un valor final de PI"
   ]
  },
  {
   "cell_type": "code",
   "execution_count": null,
   "metadata": {},
   "outputs": [],
   "source": [
    "def pi_montecarlo(n,n_exp):\n",
    "    pi_avg = 0\n",
    "    pi_value_list = []\n",
    "    for i in range(n_exp):\n",
    "        value = 0\n",
    "        x = np.random.uniform(0,1,n).tolist()\n",
    "        y = np.random.uniform(0,1,n).tolist()\n",
    "        for j in range(n):\n",
    "            z = np.sqrt(x[j] * x[j] + y[j] * y[j])\n",
    "            if z <= 1:\n",
    "                value += 1\n",
    "        float_value = float(value)\n",
    "        pi_value = float_value * 4 / n\n",
    "        pi_value_list.append(pi_value)\n",
    "        pi_avg += pi_value\n",
    "\n",
    "    pi = pi_avg/100\n",
    "\n",
    "    print(pi)\n",
    "    fig = plt.plot(pi_value_list)\n",
    "    return (pi,fig)"
   ]
  },
  {
   "cell_type": "code",
   "execution_count": null,
   "metadata": {},
   "outputs": [],
   "source": [
    "pi_montecarlo(1000,100)"
   ]
  },
  {
   "cell_type": "markdown",
   "metadata": {},
   "source": [
    "### Dummy Data Sets"
   ]
  },
  {
   "cell_type": "code",
   "execution_count": null,
   "metadata": {},
   "outputs": [],
   "source": [
    "# se genera un dataframe a partir de un diccionario de 3 variables aleatorias con distintas distribuciones de probabilidad\n",
    "n = 10000\n",
    "data = pd.DataFrame(\n",
    "    {\n",
    "        'A' : np.random.randn(n), # variable aletoria normal\n",
    "        'B' : 1.5 + 2.5 * np.random.randn(n), # variale aletoria con media y sd desplazada\n",
    "        'C' : np.random.uniform(5,32,n) #variable aleatoria uniforme\n",
    "    }    \n",
    ")"
   ]
  },
  {
   "cell_type": "code",
   "execution_count": null,
   "metadata": {},
   "outputs": [],
   "source": [
    "# se verifica que en la columna A la media es en torno a 0 y la sd en torno a 1 y en la columna B la media es 1.5 y sd 2.5\n",
    "data.describe()\n"
   ]
  },
  {
   "cell_type": "code",
   "execution_count": null,
   "metadata": {},
   "outputs": [],
   "source": [
    "#graficamos individualmente las columnas para verificar si siguen las distribuciones\n",
    "plt.hist(data['C'])"
   ]
  },
  {
   "cell_type": "code",
   "execution_count": null,
   "metadata": {},
   "outputs": [],
   "source": [
    "#generar dummy dataframe con variables categoricas\n",
    "data = pd.read_csv(\"../datasets/customer-churn-model/Customer Churn Model.txt\")"
   ]
  },
  {
   "cell_type": "code",
   "execution_count": null,
   "metadata": {},
   "outputs": [],
   "source": [
    "data.head()\n"
   ]
  },
  {
   "cell_type": "code",
   "execution_count": null,
   "metadata": {},
   "outputs": [],
   "source": [
    "column_names = data.columns.values.tolist()"
   ]
  },
  {
   "cell_type": "code",
   "execution_count": null,
   "metadata": {},
   "outputs": [],
   "source": [
    "a = len(column_names)\n",
    "a\n"
   ]
  },
  {
   "cell_type": "code",
   "execution_count": null,
   "metadata": {},
   "outputs": [],
   "source": [
    "#diccionario con indice personalizado \n",
    "new_data = pd.DataFrame(\n",
    "        {\n",
    "            'Column Name':column_names,\n",
    "            'A' : np.random.randn(a),\n",
    "            'B' : np.random.uniform(0,1,a)\n",
    "        }, index = range(42,42+a)\n",
    ")"
   ]
  },
  {
   "cell_type": "code",
   "execution_count": null,
   "metadata": {},
   "outputs": [],
   "source": [
    "new_data"
   ]
  }
 ],
 "metadata": {
  "kernelspec": {
   "display_name": "Python 3",
   "language": "python",
   "name": "python3"
  },
  "language_info": {
   "codemirror_mode": {
    "name": "ipython",
    "version": 3
   },
   "file_extension": ".py",
   "mimetype": "text/x-python",
   "name": "python",
   "nbconvert_exporter": "python",
   "pygments_lexer": "ipython3",
   "version": "3.6.5"
  }
 },
 "nbformat": 4,
 "nbformat_minor": 2
}
