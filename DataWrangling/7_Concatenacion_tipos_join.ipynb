{
 "cells": [
  {
   "cell_type": "code",
   "execution_count": null,
   "metadata": {},
   "outputs": [],
   "source": [
    "import pandas as pd\n",
    "import numpy as np"
   ]
  },
  {
   "cell_type": "code",
   "execution_count": null,
   "metadata": {},
   "outputs": [],
   "source": [
    "filepath =\"../datasets/athletes/\"\n",
    "data_main = pd.read_csv(filepath+ \"Medals.csv\",encoding =\"ISO-8859-1\")\n",
    "\n",
    "data_country = pd.read_csv(filepath + \"Athelete_Country_Map.csv\",encoding = \"ISO-8859-1\")\n",
    "data_country_dp = data_country.drop_duplicates(subset=\"Athlete\")\n",
    "\n",
    "data_sports = pd.read_csv(filepath + \"Athelete_Sports_Map.csv\",encoding=\"ISO-8859-1\")\n",
    "data_sports_dp = data_sports.drop_duplicates(subset=\"Athlete\")"
   ]
  },
  {
   "cell_type": "code",
   "execution_count": null,
   "metadata": {},
   "outputs": [],
   "source": [
    "data_main.head()"
   ]
  },
  {
   "cell_type": "code",
   "execution_count": null,
   "metadata": {},
   "outputs": [],
   "source": [
    "#Elegimos 6 atletas al azar para eliminar informacion de sus paises y deportes para introducir NaNs en el dataset\n",
    "out_athletes = np.random.choice(data_main[\"Athlete\"],size = 6,replace=False)"
   ]
  },
  {
   "cell_type": "code",
   "execution_count": null,
   "metadata": {},
   "outputs": [],
   "source": [
    "#armamos nuevos datasets quitando los atletas del dataframe out_athletes, y marcamos un atleta para ver si es correcto\n",
    "data_country_dlt = data_country_dp[(~data_country_dp[\"Athlete\"].isin(out_athletes)) &\n",
    "                                  (data_country_dp[\"Athlete\"] != \"Michael Phelps\")]\n",
    "\n",
    "data_sports_dlt  = data_sports_dp[(~data_sports_dp[\"Athlete\"].isin(out_athletes)) &\n",
    "                                  (data_sports_dp[\"Athlete\"] != \"Michael Phelps\")]\n",
    "\n",
    "data_main_dlt =   data_main[(~data_main[\"Athlete\"].isin(out_athletes)) &\n",
    "                             (data_main[\"Athlete\"] != \"Michael Phelps\")]"
   ]
  },
  {
   "cell_type": "code",
   "execution_count": null,
   "metadata": {},
   "outputs": [],
   "source": [
    "len(data_main_dlt)"
   ]
  },
  {
   "cell_type": "markdown",
   "metadata": {},
   "source": [
    "## Tipos de Joins"
   ]
  },
  {
   "cell_type": "code",
   "execution_count": null,
   "metadata": {},
   "outputs": [],
   "source": [
    "from IPython.display import Image"
   ]
  },
  {
   "cell_type": "markdown",
   "metadata": {},
   "source": [
    "### Inner Join\n",
    "* Devuelve un dataframe con las filas que tienen valor tanto en el primer como en el segundo dataframe que se desea unir\n",
    "* El numero de filas sera igual al numero de filas que **ambos datasets tenga en comun**. Interseccion de dos conjuntos\n",
    "    * A tiene 60 filas\n",
    "    * B tiene 50 filas\n",
    "    * Ambos tienen 30 filas en comun\n",
    "    * A Inner Join B tendra 30 filas"
   ]
  },
  {
   "cell_type": "code",
   "execution_count": null,
   "metadata": {},
   "outputs": [],
   "source": [
    "#data_main tiene toda la info, y data_country_dlt le faltan 7 atletas\n",
    "merged_inner = pd.merge(left = data_main, right = data_country_dlt,\n",
    "                        how =\"inner\", left_on =\"Athlete\",right_on=\"Athlete\")"
   ]
  },
  {
   "cell_type": "code",
   "execution_count": null,
   "metadata": {},
   "outputs": [],
   "source": [
    "len(merged_inner)"
   ]
  },
  {
   "cell_type": "code",
   "execution_count": null,
   "metadata": {},
   "outputs": [],
   "source": [
    "#ver que no aparece michel pelphs ya que no aparece en el dataset izquierdo, aunque si en el derecho\n",
    "merged_inner.head()"
   ]
  },
  {
   "cell_type": "markdown",
   "metadata": {},
   "source": [
    "### Left Join\n",
    "* Devuelve un dataframe con las filas que tuvieran valor en el dataset izquierdo, sin importar si existen en el de la derecha\n",
    "* Las filas del dataframe final que no tengan correspondencia en el dataframe derecho quedaran con tipos NaN en las columnas del dataframe derecho\n",
    "* El numero de filas del dataframe final sera igual al numero de filas del dataframe izquierdo\n",
    "    * A tiene 60 filas\n",
    "    * B tiene 50 filas\n",
    "    * A Left Join B tendrá 60 filas\n",
    "* Todo el dataset izquierdo mas la interseccion (elementos comunes) con el dataset derecho"
   ]
  },
  {
   "cell_type": "code",
   "execution_count": null,
   "metadata": {},
   "outputs": [],
   "source": [
    "merget_left = pd.merge(left = data_main,right = data_country_dlt,\n",
    "                       how = \"left\", left_on =\"Athlete\",right_on =\"Athlete\")\n",
    "len(merget_left)"
   ]
  },
  {
   "cell_type": "code",
   "execution_count": null,
   "metadata": {},
   "outputs": [],
   "source": [
    "#ver como se introdujeron NaNs en los valores sin correspondencia entre datasets\n",
    "merget_left.head()"
   ]
  },
  {
   "cell_type": "markdown",
   "metadata": {},
   "source": [
    "### Right Join\n",
    "* Devuelve un dataframe con las filas que tuvieran valor en el dataset de la derecha sin importar si existen en el de la izquierda\n",
    "* Las filas del dataframe"
   ]
  },
  {
   "cell_type": "code",
   "execution_count": null,
   "metadata": {},
   "outputs": [],
   "source": [
    "#info de atletas(medallas) y paises, recordar que en data_main_dlt hemos quitado 7 atletas\n",
    "merged_right = pd.merge(left = data_main_dlt,right = data_country_dp,\n",
    "                       how =\"right\",left_on=\"Athlete\",right_on =\"Athlete\")\n",
    "len(merged_right)"
   ]
  },
  {
   "cell_type": "code",
   "execution_count": null,
   "metadata": {},
   "outputs": [],
   "source": [
    "#notar como ahora michel pelphs aparece al final, al ser un right join y los valores\n",
    "#que no tienen correspondencia en de la izquierda aparecen al final con NaN\n",
    "merged_right.tail(10)"
   ]
  },
  {
   "cell_type": "markdown",
   "metadata": {},
   "source": [
    "### Outer Join\n",
    "* Devuelve un dataframe con todas las filas de ambos dataset, reemplazando las ausencias de uno u otro con NaN\n",
    "* Las filas del dataframe fnal que no correspondan a ninguna fila del dataset derecho o izquierdo tendran NaN en las columnas\n",
    "  del respectivo dataframe\n",
    "* El numero de filas sera igua al numero maximo de filas de ambos dataset"
   ]
  },
  {
   "cell_type": "code",
   "execution_count": null,
   "metadata": {},
   "outputs": [],
   "source": [
    "#par demostrar el outer join, agrgareamos un atleta mas a data_country_dlt\n",
    "data_country_jb = data_country_dlt.append(\n",
    "   {\n",
    "        \"Athlete\": \"Cristian Ortiz Navia\",\n",
    "        \"Country\": \"Chile\"\n",
    "   },ignore_index = True\n",
    ")"
   ]
  },
  {
   "cell_type": "code",
   "execution_count": null,
   "metadata": {},
   "outputs": [],
   "source": [
    "merged_outer = pd.merge(left = data_main,right=data_country_jb,\n",
    "                        how =\"outer\",left_on=\"Athlete\", right_on=\"Athlete\")\n",
    "len(merged_outer)"
   ]
  },
  {
   "cell_type": "code",
   "execution_count": null,
   "metadata": {},
   "outputs": [],
   "source": [
    "#ver como aparece el nuevo atleta agrgado al final por ser dominante el dataset de la derecha, pero con valores NaN, al no tener\n",
    "#correspondencia en el dataset de medallas, data_main\n",
    "merged_outer.tail(10)"
   ]
  },
  {
   "cell_type": "code",
   "execution_count": null,
   "metadata": {},
   "outputs": [],
   "source": []
  }
 ],
 "metadata": {
  "kernelspec": {
   "display_name": "Python 3",
   "language": "python",
   "name": "python3"
  },
  "language_info": {
   "codemirror_mode": {
    "name": "ipython",
    "version": 3
   },
   "file_extension": ".py",
   "mimetype": "text/x-python",
   "name": "python",
   "nbconvert_exporter": "python",
   "pygments_lexer": "ipython3",
   "version": "3.6.5"
  }
 },
 "nbformat": 4,
 "nbformat_minor": 2
}
